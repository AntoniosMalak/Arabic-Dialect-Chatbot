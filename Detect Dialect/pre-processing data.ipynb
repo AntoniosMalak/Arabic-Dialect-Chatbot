{
 "cells": [
  {
   "cell_type": "code",
   "execution_count": 1,
   "metadata": {},
   "outputs": [
    {
     "name": "stdout",
     "output_type": "stream",
     "text": [
      "(458197, 3)\n"
     ]
    },
    {
     "data": {
      "text/html": [
       "<div>\n",
       "<style scoped>\n",
       "    .dataframe tbody tr th:only-of-type {\n",
       "        vertical-align: middle;\n",
       "    }\n",
       "\n",
       "    .dataframe tbody tr th {\n",
       "        vertical-align: top;\n",
       "    }\n",
       "\n",
       "    .dataframe thead th {\n",
       "        text-align: right;\n",
       "    }\n",
       "</style>\n",
       "<table border=\"1\" class=\"dataframe\">\n",
       "  <thead>\n",
       "    <tr style=\"text-align: right;\">\n",
       "      <th></th>\n",
       "      <th>id</th>\n",
       "      <th>text</th>\n",
       "      <th>dialect</th>\n",
       "    </tr>\n",
       "  </thead>\n",
       "  <tbody>\n",
       "    <tr>\n",
       "      <th>0</th>\n",
       "      <td>1175358310087892992</td>\n",
       "      <td>@Nw8ieJUwaCAAreT لكن بالنهاية .. ينتفض .. يغير .</td>\n",
       "      <td>IQ</td>\n",
       "    </tr>\n",
       "    <tr>\n",
       "      <th>1</th>\n",
       "      <td>1175416117793349632</td>\n",
       "      <td>@7zNqXP0yrODdRjK يعني هذا محسوب على البشر .. ح...</td>\n",
       "      <td>IQ</td>\n",
       "    </tr>\n",
       "    <tr>\n",
       "      <th>2</th>\n",
       "      <td>1175450108898565888</td>\n",
       "      <td>@KanaanRema مبين من كلامه خليجي</td>\n",
       "      <td>IQ</td>\n",
       "    </tr>\n",
       "    <tr>\n",
       "      <th>3</th>\n",
       "      <td>1175471073770573824</td>\n",
       "      <td>@HAIDER76128900 يسلملي مرورك وروحك الحلوه💐</td>\n",
       "      <td>IQ</td>\n",
       "    </tr>\n",
       "    <tr>\n",
       "      <th>4</th>\n",
       "      <td>1175496913145217024</td>\n",
       "      <td>@hmo2406 وين هل الغيبه  اخ محمد 🌸🌺</td>\n",
       "      <td>IQ</td>\n",
       "    </tr>\n",
       "  </tbody>\n",
       "</table>\n",
       "</div>"
      ],
      "text/plain": [
       "                    id                                               text  \\\n",
       "0  1175358310087892992   @Nw8ieJUwaCAAreT لكن بالنهاية .. ينتفض .. يغير .   \n",
       "1  1175416117793349632  @7zNqXP0yrODdRjK يعني هذا محسوب على البشر .. ح...   \n",
       "2  1175450108898565888                    @KanaanRema مبين من كلامه خليجي   \n",
       "3  1175471073770573824         @HAIDER76128900 يسلملي مرورك وروحك الحلوه💐   \n",
       "4  1175496913145217024                 @hmo2406 وين هل الغيبه  اخ محمد 🌸🌺   \n",
       "\n",
       "  dialect  \n",
       "0      IQ  \n",
       "1      IQ  \n",
       "2      IQ  \n",
       "3      IQ  \n",
       "4      IQ  "
      ]
     },
     "execution_count": 1,
     "metadata": {},
     "output_type": "execute_result"
    }
   ],
   "source": [
    "import pandas as pd\n",
    "data = pd.read_csv('Data/collected_data.csv')\n",
    "print(data.shape)\n",
    "data.head()"
   ]
  },
  {
   "cell_type": "code",
   "execution_count": 2,
   "metadata": {},
   "outputs": [
    {
     "data": {
      "text/plain": [
       "EG    57636\n",
       "PL    43742\n",
       "KW    42109\n",
       "LY    36499\n",
       "QA    31069\n",
       "JO    27921\n",
       "LB    27617\n",
       "SA    26832\n",
       "AE    26296\n",
       "BH    26292\n",
       "OM    19116\n",
       "SY    16242\n",
       "DZ    16183\n",
       "IQ    15497\n",
       "SD    14434\n",
       "MA    11539\n",
       "YE     9927\n",
       "TN     9246\n",
       "Name: dialect, dtype: int64"
      ]
     },
     "execution_count": 2,
     "metadata": {},
     "output_type": "execute_result"
    }
   ],
   "source": [
    "data['dialect'].value_counts()"
   ]
  },
  {
   "cell_type": "code",
   "execution_count": 3,
   "metadata": {},
   "outputs": [
    {
     "data": {
      "image/png": "[encoded data removed]",
      "text/plain": [
       "<Figure size 576x360 with 1 Axes>"
      ]
     },
     "metadata": {
      "needs_background": "light"
     },
     "output_type": "display_data"
    }
   ],
   "source": [
    "import seaborn as sns\n",
    "import matplotlib.pyplot as plt\n",
    "%matplotlib inline\n",
    "\n",
    "def plot(data):\n",
    "    plt.figure(figsize=(8,5))\n",
    "    sns.countplot(x = data['dialect'], data=data)\n",
    "\n",
    "plot(data)"
   ]
  },
  {
   "cell_type": "code",
   "execution_count": 4,
   "metadata": {},
   "outputs": [
    {
     "data": {
      "text/plain": [
       "(57636, 3)"
      ]
     },
     "execution_count": 4,
     "metadata": {},
     "output_type": "execute_result"
    }
   ],
   "source": [
    "# (Egyptian)  EG ==> EG\n",
    "eg_data = data[data['dialect'] == 'EG']\n",
    "eg_data.shape"
   ]
  },
  {
   "cell_type": "code",
   "execution_count": 5,
   "metadata": {},
   "outputs": [
    {
     "data": {
      "text/plain": [
       "(73467, 3)"
      ]
     },
     "execution_count": 5,
     "metadata": {},
     "output_type": "execute_result"
    }
   ],
   "source": [
    "# (Magharbi)  MA ==> TN - LY - DZ - MA\n",
    "tn_data = data[data['dialect'] == 'TN']\n",
    "ly_data = data[data['dialect'] == 'LY']\n",
    "dz_data = data[data['dialect'] == 'DZ']\n",
    "ma_data = data[data['dialect'] == 'MA']\n",
    "mg_data = pd.concat([tn_data, ly_data, dz_data, ma_data], axis=0, join='inner')\n",
    "dict = { 'TN':'MG', 'LY':'MG', 'DZ':'MG', 'MA':'MG'}\n",
    "mg_data.dialect = data.dialect.map(dict)\n",
    "mg_data.shape"
   ]
  },
  {
   "cell_type": "code",
   "execution_count": 6,
   "metadata": {},
   "outputs": [
    {
     "data": {
      "text/plain": [
       "(171714, 3)"
      ]
     },
     "execution_count": 6,
     "metadata": {},
     "output_type": "execute_result"
    }
   ],
   "source": [
    "# (gulf)      GU ==> BH - QA - KW - OM - AE - SA - IQ\n",
    "bh_data = data[data['dialect'] == 'BH']\n",
    "qa_data = data[data['dialect'] == 'QA']\n",
    "kw_data = data[data['dialect'] == 'KW']\n",
    "om_data = data[data['dialect'] == 'OM']\n",
    "ae_data = data[data['dialect'] == 'AE']\n",
    "sa_data = data[data['dialect'] == 'SA']\n",
    "\n",
    "gu_data = pd.concat([bh_data, qa_data, kw_data, om_data, ae_data, sa_data], axis=0, join='inner')\n",
    "dict = { 'BH':'GU', 'QA':'GU', 'KW':'GU', 'OM':'GU', 'AE':'GU', 'SA':'GU'}\n",
    "gu_data.dialect = data.dialect.map(dict)\n",
    "gu_data.shape"
   ]
  },
  {
   "cell_type": "code",
   "execution_count": 7,
   "metadata": {},
   "outputs": [
    {
     "data": {
      "text/plain": [
       "(115522, 3)"
      ]
     },
     "execution_count": 7,
     "metadata": {},
     "output_type": "execute_result"
    }
   ],
   "source": [
    "# (Levantine) LE ==> JO - LB - PL - SY \n",
    "jo_data = data[data['dialect'] == 'JO']\n",
    "lb_data = data[data['dialect'] == 'LB']\n",
    "pl_data = data[data['dialect'] == 'PL']\n",
    "sy_data = data[data['dialect'] == 'SY']\n",
    "le_data = pd.concat([jo_data, lb_data, pl_data, sy_data], axis=0, join='inner')\n",
    "dict = { 'JO':'LE', 'LB':'LE', 'PL':'LE', 'SY':'LE'}\n",
    "le_data.dialect = data.dialect.map(dict)\n",
    "le_data.shape"
   ]
  },
  {
   "cell_type": "code",
   "execution_count": 8,
   "metadata": {},
   "outputs": [
    {
     "data": {
      "text/plain": [
       "(39858, 3)"
      ]
     },
     "execution_count": 8,
     "metadata": {},
     "output_type": "execute_result"
    }
   ],
   "source": [
    "# (Others) TH ==> SD - IQ - YE\n",
    "iq_data = data[data['dialect'] == 'IQ']\n",
    "sd_data = data[data['dialect'] == 'SD']\n",
    "ye_data = data[data['dialect'] == 'YE']\n",
    "th_data = pd.concat([iq_data, sd_data, ye_data], axis=0, join='inner')\n",
    "dict = { 'SD':'TH', 'IQ':'TH', 'YE':'GU'}\n",
    "th_data.dialect = data.dialect.map(dict)\n",
    "th_data.shape"
   ]
  },
  {
   "cell_type": "code",
   "execution_count": 9,
   "metadata": {},
   "outputs": [
    {
     "data": {
      "image/png": "[encoded data removed]",
      "text/plain": [
       "<Figure size 576x360 with 1 Axes>"
      ]
     },
     "metadata": {
      "needs_background": "light"
     },
     "output_type": "display_data"
    }
   ],
   "source": [
    "df = pd.concat([eg_data, mg_data, gu_data, le_data, th_data], axis=0, join='inner')\n",
    "df.shape\n",
    "plot(df)"
   ]
  },
  {
   "cell_type": "code",
   "execution_count": 10,
   "metadata": {},
   "outputs": [
    {
     "data": {
      "image/png": "[encoded data removed]",
      "text/plain": [
       "<Figure size 576x360 with 1 Axes>"
      ]
     },
     "metadata": {
      "needs_background": "light"
     },
     "output_type": "display_data"
    }
   ],
   "source": [
    "dict = { 'EG':0, 'MG':1, 'GU':2, 'LE':3, 'TH':4}\n",
    "df.dialect = df.dialect.map(dict)\n",
    "plot(df)"
   ]
  },
  {
   "cell_type": "code",
   "execution_count": 11,
   "metadata": {},
   "outputs": [],
   "source": [
    "# Normalizing similar characters\n",
    "# Removing tashkeel\n",
    "# Normalizing mentions and links\n",
    "# Removing unnecessary or repeated punctuation or characters\n",
    "\n",
    "import re\n",
    "from tashaphyne import normalize\n",
    "\n",
    "def cleaning(text): \n",
    "    newtext = re.sub('([@A-Za-z0-9_])|[^\\w\\s]|#|http\\S+|', '', text).replace('\\n',' ').lstrip().rstrip()\n",
    "    return re.sub(r'(.)\\1+', r'\\1', newtext)\n",
    "\n",
    "def preprocessing_text(text):\n",
    "    text = normalize.normalize_searchtext(text)\n",
    "    return cleaning(text)"
   ]
  },
  {
   "cell_type": "code",
   "execution_count": 12,
   "metadata": {},
   "outputs": [],
   "source": [
    "# input         ==> text = u'أنا إسَمى أنطـًــــــــــــــــونيوس https://www.facebook.com ملاااااااااااااااااك وديع@vvvv www.google.com'\n",
    "# preprocessing ==> preprocessing_text(text)\n",
    "# output        ==>'انا اسمي انطونيوس ملاك وديع'"
   ]
  },
  {
   "cell_type": "code",
   "execution_count": 13,
   "metadata": {},
   "outputs": [
    {
     "data": {
      "text/html": [
       "<div>\n",
       "<style scoped>\n",
       "    .dataframe tbody tr th:only-of-type {\n",
       "        vertical-align: middle;\n",
       "    }\n",
       "\n",
       "    .dataframe tbody tr th {\n",
       "        vertical-align: top;\n",
       "    }\n",
       "\n",
       "    .dataframe thead th {\n",
       "        text-align: right;\n",
       "    }\n",
       "</style>\n",
       "<table border=\"1\" class=\"dataframe\">\n",
       "  <thead>\n",
       "    <tr style=\"text-align: right;\">\n",
       "      <th></th>\n",
       "      <th>id</th>\n",
       "      <th>text</th>\n",
       "      <th>dialect</th>\n",
       "      <th>processed_text</th>\n",
       "    </tr>\n",
       "  </thead>\n",
       "  <tbody>\n",
       "    <tr>\n",
       "      <th>244697</th>\n",
       "      <td>1130199209695744000</td>\n",
       "      <td>الاقيش معاك 25 الف يا عم نجيب قرض حسن ابدا بيه...</td>\n",
       "      <td>0</td>\n",
       "      <td>الاقيش معاك الف يا عم نجيب قرض حسن ابدا بيهم ح...</td>\n",
       "    </tr>\n",
       "    <tr>\n",
       "      <th>244698</th>\n",
       "      <td>1137520472420233216</td>\n",
       "      <td>@khbondok4 وهو انت لو بتفهم كنت بقيت زملكاوي ؟!</td>\n",
       "      <td>0</td>\n",
       "      <td>وهو انت لو بتفهم كنت بقيت زملكاوي</td>\n",
       "    </tr>\n",
       "    <tr>\n",
       "      <th>244699</th>\n",
       "      <td>1137717993172033536</td>\n",
       "      <td>@aelnagar5 @khbondok4 ولولوا عليك ساعة وسكتوا</td>\n",
       "      <td>0</td>\n",
       "      <td>ولولوا عليك ساعه وسكتوا</td>\n",
       "    </tr>\n",
       "    <tr>\n",
       "      <th>244700</th>\n",
       "      <td>1137810705514684416</td>\n",
       "      <td>@aelnagar5 @Lokareta2 لا ساعة واحدة عشان بواب ...</td>\n",
       "      <td>0</td>\n",
       "      <td>لا ساعه واحده عشان بواب ملكش عازه</td>\n",
       "    </tr>\n",
       "    <tr>\n",
       "      <th>244701</th>\n",
       "      <td>1125394999997284352</td>\n",
       "      <td>@TurkiHAlhamad1 جنسيتك ايه ؟\\nده انت لو صهيوني...</td>\n",
       "      <td>0</td>\n",
       "      <td>جنسيتك ايه ده انت لو صهيوني مش هتقول كده</td>\n",
       "    </tr>\n",
       "  </tbody>\n",
       "</table>\n",
       "</div>"
      ],
      "text/plain": [
       "                         id  \\\n",
       "244697  1130199209695744000   \n",
       "244698  1137520472420233216   \n",
       "244699  1137717993172033536   \n",
       "244700  1137810705514684416   \n",
       "244701  1125394999997284352   \n",
       "\n",
       "                                                     text  dialect  \\\n",
       "244697  الاقيش معاك 25 الف يا عم نجيب قرض حسن ابدا بيه...        0   \n",
       "244698    @khbondok4 وهو انت لو بتفهم كنت بقيت زملكاوي ؟!        0   \n",
       "244699      @aelnagar5 @khbondok4 ولولوا عليك ساعة وسكتوا        0   \n",
       "244700  @aelnagar5 @Lokareta2 لا ساعة واحدة عشان بواب ...        0   \n",
       "244701  @TurkiHAlhamad1 جنسيتك ايه ؟\\nده انت لو صهيوني...        0   \n",
       "\n",
       "                                           processed_text  \n",
       "244697  الاقيش معاك الف يا عم نجيب قرض حسن ابدا بيهم ح...  \n",
       "244698                  وهو انت لو بتفهم كنت بقيت زملكاوي  \n",
       "244699                            ولولوا عليك ساعه وسكتوا  \n",
       "244700                  لا ساعه واحده عشان بواب ملكش عازه  \n",
       "244701           جنسيتك ايه ده انت لو صهيوني مش هتقول كده  "
      ]
     },
     "execution_count": 13,
     "metadata": {},
     "output_type": "execute_result"
    }
   ],
   "source": [
    "df['processed_text'] =  df['text'].apply(preprocessing_text)\n",
    "df.head() "
   ]
  },
  {
   "cell_type": "code",
   "execution_count": 14,
   "metadata": {},
   "outputs": [],
   "source": [
    "df.to_csv('Data/processed_data.csv', index=False)"
   ]
  },
  {
   "cell_type": "code",
   "execution_count": 15,
   "metadata": {},
   "outputs": [
    {
     "data": {
      "text/plain": [
       "(458197, 4)"
      ]
     },
     "execution_count": 15,
     "metadata": {},
     "output_type": "execute_result"
    }
   ],
   "source": [
    "dataset = pd.read_csv('Data/processed_data.csv')\n",
    "dataset.shape"
   ]
  },
  {
   "cell_type": "code",
   "execution_count": 16,
   "metadata": {},
   "outputs": [
    {
     "name": "stdout",
     "output_type": "stream",
     "text": [
      "1\n"
     ]
    }
   ],
   "source": [
    "texts = list(dataset['processed_text'])\n",
    "id = list(dataset['id'])\n",
    "ids = list()\n",
    "for i in range(len(texts)):\n",
    "    text = texts[i]\n",
    "    if type(text)==float:\n",
    "        ids.append(id[i])\n",
    "    elif len(text)==0:\n",
    "        ids.append(id[i])\n",
    "\n",
    "print(len(ids))"
   ]
  },
  {
   "cell_type": "code",
   "execution_count": 17,
   "metadata": {},
   "outputs": [
    {
     "data": {
      "text/plain": [
       "[1173616403557081088]"
      ]
     },
     "execution_count": 17,
     "metadata": {},
     "output_type": "execute_result"
    }
   ],
   "source": [
    "ids"
   ]
  },
  {
   "cell_type": "code",
   "execution_count": 18,
   "metadata": {},
   "outputs": [
    {
     "data": {
      "text/plain": [
       "(458196, 4)"
      ]
     },
     "execution_count": 18,
     "metadata": {},
     "output_type": "execute_result"
    }
   ],
   "source": [
    "dataset = dataset[dataset['id'] != 1173616403557081088]\n",
    "dataset.shape"
   ]
  },
  {
   "cell_type": "code",
   "execution_count": 19,
   "metadata": {},
   "outputs": [],
   "source": [
    "dataset.to_csv('Data/processed_data.csv', index=False)"
   ]
  },
  {
   "cell_type": "code",
   "execution_count": null,
   "metadata": {},
   "outputs": [],
   "source": []
  }
 ],
 "metadata": {
  "interpreter": {
   "hash": "06d551a9c38e3c9226fb791b081d443165cdefd6b8907d1070492d8de0992181"
  },
  "kernelspec": {
   "display_name": "Python 3.6.5 64-bit",
   "language": "python",
   "name": "python3"
  },
  "language_info": {
   "codemirror_mode": {
    "name": "ipython",
    "version": 3
   },
   "file_extension": ".py",
   "mimetype": "text/x-python",
   "name": "python",
   "nbconvert_exporter": "python",
   "pygments_lexer": "ipython3",
   "version": "3.6.5"
  },
  "orig_nbformat": 4
 },
 "nbformat": 4,
 "nbformat_minor": 2
}
